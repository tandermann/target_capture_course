{
 "cells": [
  {
   "cell_type": "markdown",
   "metadata": {},
   "source": [
    "# Cleaning and trimming of FASTQ files\n",
    "\n",
    "Work through the following steps in order to produce cleaned FASTQ files that pass all quality tests. If you have questions about the commands, please first have a look at the [Trimmomatic tutorial](https://drive.google.com/file/d/1WI_gGGIViibALnlY3UfYzR0z-TXChvC-/view) and see if you find the answer there.\n",
    "\n",
    "Answer the questions in the yellow blocks,\n",
    "<div class=\"alert alert-block alert-warning\">\n",
    "**Exam question**\n",
    "</div>\n",
    "in a separate word document in case you need/want a course completion certificate. It is a requirement of ForBio, otherwise we can only hand out participation certificates, which might be sufficient for you to get credits, depending on your home university's policies. However there are not many questions and you can keep the answers to a minimum, and in any case we recommend you to at least think about the questions.\n",
    "\n",
    "_______\n",
    "\n",
    "**1)** Connect to the cluster and connect to the software environment. (Reminder: If you have not already installed the virtual environment, do so by executing `sbatch /work/projects/forbio/bin/install_forbio_env.sh`, which will take approx. 15 min):"
   ]
  },
  {
   "cell_type": "code",
   "execution_count": null,
   "metadata": {},
   "outputs": [],
   "source": [
    "%%bash\n",
    "module load Anaconda3/5.1.0\n",
    "source activate forbio_env"
   ]
  },
  {
   "cell_type": "markdown",
   "metadata": {},
   "source": [
    "Copy the folder for this tutorial to your account and enter the folder:"
   ]
  },
  {
   "cell_type": "code",
   "execution_count": null,
   "metadata": {},
   "outputs": [],
   "source": [
    "%%bash\n",
    "cp -r /work/projects/forbio/tutorials_tobi/cleaning_trimming .\n",
    "cd cleaning_trimming"
   ]
  },
  {
   "cell_type": "markdown",
   "metadata": {},
   "source": [
    "\n",
    "_____\n",
    "\n",
    "**2)** Count number of reads in FASTQ files. We have two FASTQ files for our sample 1061. Think about what this command does, ask if it's unclear.\n",
    "\n",
    "<div class=\"alert alert-block alert-warning\">\n",
    "**Question:** Why do the two files have exactly the same number of reads?\n",
    "</div>"
   ]
  },
  {
   "cell_type": "code",
   "execution_count": null,
   "metadata": {},
   "outputs": [],
   "source": [
    "%%bash\n",
    "cat raw_fastq/1061_R1.fastq | wc -l | awk '{print $1/4}'\n",
    "cat raw_fastq/1061_R2.fastq | wc -l | awk '{print $1/4}'"
   ]
  },
  {
   "cell_type": "markdown",
   "metadata": {},
   "source": [
    "\n",
    "____\n",
    "\n",
    "**3)** Run quality check on one of the files:"
   ]
  },
  {
   "cell_type": "code",
   "execution_count": null,
   "metadata": {},
   "outputs": [],
   "source": [
    "%%bash\n",
    "fastqc -o quality_check raw_fastq/1061_R1.fastq"
   ]
  },
  {
   "cell_type": "markdown",
   "metadata": {},
   "source": [
    "\n",
    "______\n",
    "\n",
    "**4)** Check results of quality check. Let's have a look at the graphic output of the test. For this you need to **copy the quality check output to your computer** and open it in a html viewer (internet explorer, safari, firefox, ...)."
   ]
  },
  {
   "cell_type": "code",
   "execution_count": null,
   "metadata": {},
   "outputs": [],
   "source": [
    "%%bash\n",
    "# open bash terminal on your computer and copy the quality test \n",
    "# output folder from the cluster to your computer\n",
    "scp -r USERNAME@abel.uio.no:/PATH/TO/YOUR/QUALITY_TEST/RESULTS/ ."
   ]
  },
  {
   "cell_type": "markdown",
   "metadata": {},
   "source": [
    "Now double-click on the `1061_R1_fastqc.html` file and look at the different tests. A green symbol in front of the test means that it passed, a yellow sybol means that it didn't fail but produced a warning and a red symbol means that the test failed.\n",
    "\n",
    "Try to understand what each test tells you about your data and why some of the test results are problematic. Ask if some of the tests don't make sense to you!"
   ]
  },
  {
   "cell_type": "markdown",
   "metadata": {},
   "source": [
    "\n",
    "______\n",
    "\n",
    "**5)**  Prepare a file containing the adapter and barcode information. We have the following information about our sample:\n",
    "\n",
    "- i5 adapter:\n",
    "\n",
    "AGATCGGAAGAGCGTCGTGTAGGGAAAGAGTGTAGATCTCGGTGGTCGCCGTATCATT\n",
    "\n",
    "- i7 adapter:\n",
    "\n",
    "GATCGGAAGAGCACACGTCTGAACTCCAGTCAC**\\***ATCTCGTATGCCGTCTTCTGCTTG\n",
    "\n",
    "- barcode of sample 1061: AGTCAA\n",
    "\n",
    "Before moving to the next step you need to **prepare a FASTA file** containing the full adapter sequences for our sample. \n",
    "In the folder `cleaned_reads/` you will find a template for the FASTA file named `1061_adapters.fasta`. Open this file in a command line text editor (e.g. `nano`) and insert the correct adapter sequences from above (for easier copying the sequences are also stored in a file `adapter_barcode_info.txt` in the same folder).\n",
    "**The barcode has to be inserted at the position marked with an asterisk (\\*) in the i7 adapter.**\n",
    "\n",
    "<div class=\"alert alert-block alert-info\">\n",
    "**NOTE:** The adapter sequences and barcodes differ between different projects (depending on the kits used), so always make sure to keep track of which adapter sequences and which barcodes were used for each sample.\n",
    "</div>\n",
    "\n"
   ]
  },
  {
   "cell_type": "markdown",
   "metadata": {},
   "source": [
    "\n",
    "______\n",
    "\n",
    "**6)** Clean your files. We are using the software trimmomatic, which is a tool for removing reads or parts of reads of bad quality and which can also be used to remove adapter sequences.\n",
    "\n",
    "The basic trimmomatic command syntax is shown below:\n",
    "\n",
    "\n",
    "```\n",
    "paried end (PE) or single end (SE) mode\n",
    "<input read1>\n",
    "<input read2>\n",
    "<output file clean read1>\n",
    "<output file clean read1 single (no read2 match)>\n",
    "<output file clean read2>\n",
    "<output file clean read2 single (no read1 match)>\n",
    "ILLUMINACLIP:<fastaWithAdapterSeqs>:<seed mismatches>:<palindrome clip\n",
    "threshold>:<simple clip threshold>\n",
    "LEADING:<quality>\n",
    "TRAILING:<quality>\n",
    "SLIDINGWINDOW:<windowSize>:<requiredQuality>\n",
    "MINLEN:<length>\n",
    "CROP:<length>\n",
    "HEADCROP:<length>\n",
    "```\n",
    "\n",
    "Let's run trimmomatic for cleaning our reads and removing the adapter sequences specified in our adapter FASTA file `1061_adapters.fasta`, using the following command:"
   ]
  },
  {
   "cell_type": "code",
   "execution_count": null,
   "metadata": {},
   "outputs": [],
   "source": [
    "%%bash\n",
    "trimmomatic \\\n",
    "        PE \\\n",
    "        raw_fastq/1061_R1.fastq \\\n",
    "        raw_fastq/1061_R2.fastq \\\n",
    "        ./cleaned_reads/1061_READ1_clean.fastq \\\n",
    "        ./cleaned_reads/1061_READ1-single_clean.fastq \\\n",
    "        ./cleaned_reads/1061_READ2_clean.fastq \\\n",
    "        ./cleaned_reads/1061_READ2-single_clean.fastq \\\n",
    "        ILLUMINACLIP:./cleaned_reads/1061_adapters.fasta:2:30:10 \\\n",
    "        LEADING:3 \\\n",
    "        TRAILING:3 \\\n",
    "        SLIDINGWINDOW:4:15 \\\n",
    "        MINLEN:10 \\\n",
    "        CROP:301 \\\n",
    "        HEADCROP:0\n"
   ]
  },
  {
   "cell_type": "markdown",
   "metadata": {},
   "source": [
    "Take a moment to understand the output of trimmomatic (what information do you get on the screen and what do the output files contain?).\n",
    "\n",
    "Also look up the meanings of the different flags (e.g. LEADING, TRAILING, etc) and the meaning of the provided values in the [Trimmomatic tutorial](https://drive.google.com/file/d/1WI_gGGIViibALnlY3UfYzR0z-TXChvC-/view). It is worth spending some time here, as you will need that understanding for later steps."
   ]
  },
  {
   "cell_type": "markdown",
   "metadata": {},
   "source": [
    "\n",
    "__________\n",
    "\n",
    "**7)** Run quality check on one of the cleaned files: "
   ]
  },
  {
   "cell_type": "code",
   "execution_count": null,
   "metadata": {},
   "outputs": [],
   "source": [
    "%%bash\n",
    "fastqc -o quality_check cleaned_reads/1061_READ1_clean.fastq"
   ]
  },
  {
   "cell_type": "markdown",
   "metadata": {},
   "source": [
    "Check how far the quality has improved and if there are still some tests that are problematic. For checking the file, repeat the instructions of **step 4)**. If your sample is still failing some of the tests, investigate what the issue is (which tests are failing and why?).\n",
    "\n",
    "Alter and rerun the trimmomatic command from step **6)** accordingly to take care of those issues. This will most likely involve some trial and error and several rounds of refinements.\n",
    "Find the right settings so that **all tests PASS** (except for 'Per base sequence content' and 'Sequence Length Distribution', it's fine if there remains a WARN).\n",
    "\n",
    "<div class=\"alert alert-block alert-warning\">\n",
    "**Question:** Report your final settings that passed these criteria.\n",
    "</div>\n",
    "\n",
    "In order to speed up the process you can avoid downloading and opening the `.html` file after every round and instead apply the code below in order to print a test-overview to the screen:"
   ]
  },
  {
   "cell_type": "code",
   "execution_count": 2,
   "metadata": {},
   "outputs": [
    {
     "name": "stdout",
     "output_type": "stream",
     "text": [
      "PASS\tBasic Statistics\t1061_READ1_clean.fastq\n",
      "PASS\tPer base sequence quality\t1061_READ1_clean.fastq\n",
      "PASS\tPer tile sequence quality\t1061_READ1_clean.fastq\n",
      "PASS\tPer sequence quality scores\t1061_READ1_clean.fastq\n",
      "WARN\tPer base sequence content\t1061_READ1_clean.fastq\n",
      "PASS\tPer sequence GC content\t1061_READ1_clean.fastq\n",
      "PASS\tPer base N content\t1061_READ1_clean.fastq\n",
      "WARN\tSequence Length Distribution\t1061_READ1_clean.fastq\n",
      "PASS\tSequence Duplication Levels\t1061_READ1_clean.fastq\n",
      "PASS\tOverrepresented sequences\t1061_READ1_clean.fastq\n",
      "PASS\tAdapter Content\t1061_READ1_clean.fastq\n",
      "PASS\tKmer Content\t1061_READ1_clean.fastq\n"
     ]
    }
   ],
   "source": [
    "%%bash\n",
    "cd quality_check\n",
    "yes | unzip -qq 1061_READ1_clean_fastqc.zip\n",
    "cat 1061_READ1_clean_fastqc/summary.txt\n",
    "cd ..\n"
   ]
  },
  {
   "cell_type": "markdown",
   "metadata": {},
   "source": [
    "<div class=\"alert alert-block alert-success\">\n",
    "\n",
    "**Congratulations!** You should now be able to clean any FASTQ file that you will be confronted with during your research. Cleaning and trimming is the most essential step and it is crucial to ensure that none of the quality tests fail.\n",
    "\n",
    "</div>"
   ]
  }
 ],
 "metadata": {
  "kernelspec": {
   "display_name": "Python 3",
   "language": "python",
   "name": "python3"
  },
  "language_info": {
   "codemirror_mode": {
    "name": "ipython",
    "version": 3
   },
   "file_extension": ".py",
   "mimetype": "text/x-python",
   "name": "python",
   "nbconvert_exporter": "python",
   "pygments_lexer": "ipython3",
   "version": "3.6.4"
  }
 },
 "nbformat": 4,
 "nbformat_minor": 2
}
