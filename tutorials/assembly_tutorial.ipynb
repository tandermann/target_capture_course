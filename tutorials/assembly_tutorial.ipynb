{
 "cells": [
  {
   "cell_type": "markdown",
   "metadata": {},
   "source": [
    "# Assembly of Illumina reads\n",
    "\n",
    "Answer the questions in the yellow blocks,\n",
    "<div class=\"alert alert-block alert-warning\">\n",
    "**Exam question**\n",
    "</div>\n",
    "in a separate word document in case you need/want a course completion certificate. It is a requirement of ForBio, otherwise we can only hand out participation certificates, which might be sufficient for you to get credits, depending on your home university's policies. However there are not many questions and you can keep the answers to a minimum, and in any case we recommend you to at least think about the questions.\n",
    "\n",
    "________\n"
   ]
  },
  {
   "cell_type": "markdown",
   "metadata": {},
   "source": [
    "\n",
    "### De novo assembly\n",
    "**1)** Connect to the cluster and then connect to the software environment."
   ]
  },
  {
   "cell_type": "code",
   "execution_count": null,
   "metadata": {},
   "outputs": [],
   "source": [
    "%%bash\n",
    "module load Anaconda3/5.1.0\n",
    "source activate forbio_env"
   ]
  },
  {
   "cell_type": "markdown",
   "metadata": {},
   "source": [
    "\n",
    "________\n",
    "\n",
    "**2)** Copy the folder for the assembly tutorial to your working directory and enter the folder:"
   ]
  },
  {
   "cell_type": "code",
   "execution_count": null,
   "metadata": {},
   "outputs": [],
   "source": [
    "%%bash\n",
    "cp -r /work/projects/forbio/tutorials_tobi/assembly /work/users/USERNAME/\n",
    "cd assembly"
   ]
  },
  {
   "cell_type": "markdown",
   "metadata": {},
   "source": [
    "\n",
    "_______\n",
    "\n",
    "**3)** Prepare and run the de novo assembly job. This is what the basic syntax of a very simple abyss assembly command looks like (for more information see the [abyss manual](https://docs.google.com/document/d/1WUy2VYYWEfcPm3_PldXu8z_VVxCoQvfmIoL7ysucx-c/edit)): \n",
    "```\n",
    "abyss-pe \\\n",
    "    --directory=OUTPUT_DIR \\\n",
    "    k=KMER_VALUE \\\n",
    "    name=SAMPLE_ID \\\n",
    "    in=\"/PATH/TO/MY_READS_R1.fastq /PATH/TO/MY_READS_R2.fastq\"\n",
    "```"
   ]
  },
  {
   "cell_type": "markdown",
   "metadata": {},
   "source": [
    "Run this command in the command line (after inserting the correct values and file-paths) to test if you get it to work. If you get it to run successfully (no error messages), **STOP THE COMMAND** by pressing `Ctrl+D`. We are cancelling it for the reason that the command needs to run for a while (ca. 30 min) and we want to submit it as a jobscript to the queue-system with `sbatch` instead (instructions below).\n",
    "\n",
    "<div class=\"alert alert-block alert-info\">\n",
    "INFO: You don't need to type the ` \\`, which is only needed to continue your command over several lines in the command line. Instead you can just put everything in one line.\n",
    "</div>"
   ]
  },
  {
   "cell_type": "markdown",
   "metadata": {},
   "source": [
    "Knowing the abyss command syntax from above, **complete the abyss command** in the job-script `assembly_abyss.sh` in your tutorial folder. \n",
    "\n",
    "<div class=\"alert alert-block alert-info\">\n",
    "INFO: You only need to edit the fields containing \"?\" in the document.\n",
    "</div>\n",
    "\n",
    "You find the fastq files to assemble in the `de_novo_assembly` tutorial directory in the folder `fastq_reads`.\n",
    "\n",
    "When the file is set up, submit the job using `sbatch`. Check if the job is running with `squeue -u YOUR_USERNAME`.\n",
    "\n",
    "<div class=\"alert alert-block alert-info\">\n",
    "INFO: The job will run in the background for ca. 30 min. In the meantime move on to the next step.\n",
    "</div>\n",
    "\n",
    "Below again the commands to edit, submit and check your script:"
   ]
  },
  {
   "cell_type": "code",
   "execution_count": null,
   "metadata": {},
   "outputs": [],
   "source": [
    "%%bash\n",
    "# do the changes in the file by opening it in the nano text editor\n",
    "nano assembly_abyss.sh\n",
    "# submit the job\n",
    "sbatch assembly_abyss.sh\n",
    "# check if the job is running\n",
    "squeue -u YOUR_ABEL_USER_ID"
   ]
  },
  {
   "cell_type": "markdown",
   "metadata": {},
   "source": [
    "\n",
    "_____\n",
    "\n",
    "**4)** Try out different kmer values. Change the kmer value in the job script and submit again. Try at least 3 different values between 20 and 80.\n",
    "\n",
    "<div class=\"alert alert-block alert-success\">\n",
    "If all assemblies (different kmer values) are running properly, you have ca. 30 min of time until all your assemblies are finished. Go grab a coffee and/or seize the time to have a look at some of the publications in the [course literature folder](https://drive.google.com/drive/u/0/folders/1VjMMVMf3XWi_Vm7-r6C6_GXuFwSzpk_z).\n",
    "\n",
    "I recommend you to have a look at [this article](https://peerj.com/articles/5175/), not only because of shameless self-advertizing, but because of the description of the workflow, which is very similar to this exercise. \n",
    "\n",
    "\n",
    "</div>\n"
   ]
  },
  {
   "cell_type": "markdown",
   "metadata": {},
   "source": [
    "\n",
    "______\n",
    "\n",
    "**5)** Evaluate assembly results. There are a lot of files in the assembly output. The file containing the final contig sequences is stored in the assembly output folder under the name `T_pella5-contigs.fa`. Check it out using the following commands:"
   ]
  },
  {
   "cell_type": "code",
   "execution_count": null,
   "metadata": {},
   "outputs": [],
   "source": [
    "%%bash\n",
    "# print first lines of file to screen\n",
    "head -n 10 T_pella5-contigs.fa\n",
    "# print last lines of file to screen\n",
    "tail -n 10 T_pella5-contigs.fa\n"
   ]
  },
  {
   "cell_type": "markdown",
   "metadata": {},
   "source": [
    "Try to figure out what information is stored in the sequence headers.\n",
    "\n",
    "Have a look at the contig sequence length distribution. I wrote a small program (`plot_contig_length.sh`) that plots the distribution of sequence lengths to the screen. The program is found in the `scripts` folder and can be executed like this (the script will take a minute or so to finish):\n"
   ]
  },
  {
   "cell_type": "code",
   "execution_count": null,
   "metadata": {},
   "outputs": [],
   "source": [
    "%%bash\n",
    "sh scripts/plot_contig_length.sh ./path/to/T_pella5-contigs.fa "
   ]
  },
  {
   "cell_type": "markdown",
   "metadata": {},
   "source": [
    "<div class=\"alert alert-block alert-warning\">\n",
    "**Question:** **How many contigs** were produced? And what about the **length distribution of the contig sequences**? What differences can you find between the different abyss runs with different kmer values? Decide which kmer value you think produced the best de novo assembly and explain why you think so. Continue with your chosen contig file for the following steps.\n",
    "</div>"
   ]
  },
  {
   "cell_type": "markdown",
   "metadata": {},
   "source": [
    "\n",
    "_____________________\n",
    "\n",
    "### Blast contig against NCBI GeneBank:\n",
    "\n",
    "**1)** Extract the longest contig from the contig file using the program `fp.py`, which you can install with the command below:"
   ]
  },
  {
   "cell_type": "code",
   "execution_count": null,
   "metadata": {},
   "outputs": [],
   "source": [
    "%%bash\n",
    "wget https://raw.githubusercontent.com/mtop/ngs/master/fp.py"
   ]
  },
  {
   "cell_type": "markdown",
   "metadata": {},
   "source": [
    "You execute this program like this:"
   ]
  },
  {
   "cell_type": "code",
   "execution_count": null,
   "metadata": {},
   "outputs": [],
   "source": [
    "%%bash\n",
    "python2.7 /path/to/fp.py -h"
   ]
  },
  {
   "cell_type": "markdown",
   "metadata": {},
   "source": [
    "Use `fp.py` to extract the longest contig sequence from the contig file. Extract it and write it to a separate fasta file `longest_contig.fasta`:"
   ]
  },
  {
   "cell_type": "code",
   "execution_count": null,
   "metadata": {},
   "outputs": [],
   "source": [
    "%%bash\n",
    "python2.7 /path/to/fp.py --longest ./path/to/contigs/T_pella5-contigs.fa > target_contigs/longest_contig.fasta"
   ]
  },
  {
   "cell_type": "markdown",
   "metadata": {},
   "source": [
    "\n",
    "______\n",
    "\n",
    "**2)** Then run a blast search against NCBI GeneBank to see what this sequence represents. You can use the blast commandline tool to run a blast search against the online database:"
   ]
  },
  {
   "cell_type": "code",
   "execution_count": null,
   "metadata": {},
   "outputs": [],
   "source": [
    "%%bash\n",
    "module load blast+\n",
    "blastx -query target_contigs/longest_contig.fasta -db nr -out target_contigs/blast_results.txt -remote"
   ]
  },
  {
   "cell_type": "markdown",
   "metadata": {},
   "source": [
    "I prepared a job-script, which you find at `scripts/run_blast_search.sh`. Execute the script from the folder `target_contigs/` as it needs to find the file `longest_contig.fasta`. The search will take at least 10 minutes."
   ]
  },
  {
   "cell_type": "markdown",
   "metadata": {},
   "source": [
    "\n",
    "______\n",
    "\n",
    "### Blast contigs against mitochondrial genome:\n",
    "Let's say you don't want to search through all of GeneBank but instead want to test if you have contigs representing a certain sequence, say the mitochondrial genome. In that case we can find a mitochondrial genome sequence of a close ancestor on GeneBank, download it and build our own blast reference with it.\n",
    "\n",
    "**1)** Since we are using hummingbird data, let's see if we can find any contigs of mitochondrial origin by blasting the contigs against the mitochondrial genome of a related hummingbird. I stored a reference sequence of the hummingbird *Amazilla versicolor* in the subfolder `reference_sequences`. You first have to create a blast database with that sequence using the following command:"
   ]
  },
  {
   "cell_type": "code",
   "execution_count": null,
   "metadata": {},
   "outputs": [],
   "source": [
    "%%bash\n",
    "makeblastdb -dbtype nucl -in reference_sequences/amazilla_versicolor_mitochondrion.fasta"
   ]
  },
  {
   "cell_type": "markdown",
   "metadata": {},
   "source": [
    "**2)** Now you can run a blast search against this local database using all contigs that were assembled:"
   ]
  },
  {
   "cell_type": "code",
   "execution_count": null,
   "metadata": {},
   "outputs": [],
   "source": [
    "%%bash\n",
    "blastn -query ./path/to/T_pella5-contigs.fa -db reference_sequences/amazilla_versicolor_mitochondrion.fasta -out target_contigs/blast_mitoch_results.txt -outfmt 6"
   ]
  },
  {
   "cell_type": "markdown",
   "metadata": {},
   "source": [
    "Inspect the output file, which contains a list of all contigs that could be matched to the mitochondrial genome. The field-codes of the columns in the output file:\n",
    "`query acc.ver, subject acc.ver, % identity, alignment length, mismatches, gap opens, q. start, q. end, s. start, s. end, evalue, bit score`\n"
   ]
  },
  {
   "cell_type": "markdown",
   "metadata": {},
   "source": [
    "\n",
    "______\n",
    "\n",
    "### Extract contigs matching bait set:"
   ]
  },
  {
   "cell_type": "markdown",
   "metadata": {},
   "source": [
    "**1) Generate UCE fasta library.** The data we are working with were generated using an Ultraconserved Elements probe kit, which **targets 2560 UCE loci** (one probe per target locus). Let's now see how many and which contigs match with the UCE probe sequences. Create a local blast database for the file `reference_sequences/Tetrapods-UCE-2.5Kv1.fasta` (see above).\n",
    "\n",
    "_______\n",
    "\n",
    "**2) Run blast search.** Now blast the contigs file against the UCE reference database, using the command from above and storing the output in the folder `target_contigs` with the file named `blast_uce_results.txt`.\n",
    "\n",
    "______\n",
    "\n",
    "**3) Evaluate results.** Look at the output file from the blast command.\n",
    "\n",
    "<div class=\"alert alert-block alert-warning\">\n",
    "**Question:** What can you say about the matches that were found? How similar are they to the references in the reference library (= probe sequences)?\n",
    "</div>\n",
    "\n",
    "The command below returns the number of contigs matching the reference library."
   ]
  },
  {
   "cell_type": "code",
   "execution_count": null,
   "metadata": {},
   "outputs": [],
   "source": [
    "%%bash\n",
    "cat target_contigs/blast_uce_results.txt | wc -l"
   ]
  },
  {
   "cell_type": "markdown",
   "metadata": {},
   "source": [
    "<div class=\"alert alert-block alert-warning\">\n",
    "**Question:** Do you have any comments on the number of matches, regarding the number of loci we targeted? If it strikes you as weird, can you think of any explanation?\n",
    "</div>"
   ]
  },
  {
   "cell_type": "markdown",
   "metadata": {},
   "source": [
    "\n",
    "_____\n",
    "\n",
    "**4) Get sequences of contigs matching baits.** The blast output from the command above tells us which contig headers represents matches to the UCE bait set. Now we want to extract those sequences from the contig FASTA file and export them to a new FASTA file only containing target sequences. For that we can generate a loop, which iterates through every line of the blast output, gets the sequence ID and searches for a match in the contig file, which it prints to a new file `uce_contig_sequences.fasta` (insert the appropiate paths into the commands):"
   ]
  },
  {
   "cell_type": "code",
   "execution_count": null,
   "metadata": {},
   "outputs": [],
   "source": [
    "%%bash\n",
    "for i in $(cat target_contigs/blast_uce_results.txt | cut -f 1 | sort -u); do grep \">$i \" -A 1 ./path/to/T_pella5-contigs.fa ; done > target_contigs/uce_contig_sequences.fasta"
   ]
  },
  {
   "cell_type": "markdown",
   "metadata": {},
   "source": [
    "Since the command takes a few minutes it is best to interrupt it with `ctrl+c` and **RUN IT USING A JOB SCRIPT**. I prepared a script `extract_uce_contigs.sh` in the `scripts` folder, which you need to edit (`nano`) by inserting the correct paths to the input files (see comments in script for instructions). Once the paths are correct, submit the script with:"
   ]
  },
  {
   "cell_type": "code",
   "execution_count": null,
   "metadata": {},
   "outputs": [],
   "source": [
    "%%bash\n",
    "sbatch scripts/extract_uce_contigs.sh"
   ]
  },
  {
   "cell_type": "markdown",
   "metadata": {},
   "source": [
    "<div class=\"alert alert-block alert-info\">\n",
    "If you are eager to fully understand the bash loop, feel free to ask, but it's not essential to understand the complete syntax for this purpose. We will later see that there are handy pipelines that do this step for us, so we don't need to mess around with bash loops, etc.\n",
    "</div>"
   ]
  },
  {
   "cell_type": "markdown",
   "metadata": {},
   "source": [
    "\n",
    "_______\n",
    "\n",
    "**5) Check out sequence length distribution:** Let's see how long our UCE contigs are, using the plotting script in the `scripts` folder:"
   ]
  },
  {
   "cell_type": "code",
   "execution_count": null,
   "metadata": {},
   "outputs": [],
   "source": [
    "%%bash\n",
    "sh scripts/plot_contig_length.sh target_contigs/uce_contig_sequences.fasta"
   ]
  },
  {
   "cell_type": "markdown",
   "metadata": {},
   "source": [
    "<div class=\"alert alert-block alert-warning\">\n",
    "**Question:** Would you say that this target capture experiment worked well? Evaluate in terms of percent of targeted loci that were recovered with a sufficient length (say > 450bp). As side information, the length of the bait sequences that were used was 120bp (using only one bait per locus, as mentioned above).\n",
    "</div>\n"
   ]
  },
  {
   "cell_type": "markdown",
   "metadata": {},
   "source": [
    "\n",
    "________\n",
    "\n",
    "### Reference-based assembly\n",
    "\n",
    "Now we want to use these extracted contig sequences as references to map the raw reads against in a step referred to as reference based assembly. For this purpose we use the `bwa` mapper."
   ]
  },
  {
   "cell_type": "markdown",
   "metadata": {},
   "source": [
    "\n",
    "_______________\n",
    "\n",
    "**1)** Index this subsample in order ot use it as a reference"
   ]
  },
  {
   "cell_type": "code",
   "execution_count": null,
   "metadata": {},
   "outputs": [],
   "source": [
    "%%bash\n",
    "bwa index target_contigs/uce_contig_sequences.fasta"
   ]
  },
  {
   "cell_type": "markdown",
   "metadata": {},
   "source": [
    "\n",
    "____________\n",
    "\n",
    "**2)** Run the reference assembly with the command below. You can customize this command a lot, since bwa offers a lot of different flags you can play with to fine-tune your read mapping. For an explanation of all available flags, check out the [bwa tutorial](http://bio-bwa.sourceforge.net/bwa.shtml#3). Here is an example of some of the flags (including example values), which are commonly used: `-k 50 -w 21 -d 100 -r 1.5 -c 10000 -A 1 -B 4 -O 10 -E 5 -L 4 -U 2 -M`"
   ]
  },
  {
   "cell_type": "code",
   "execution_count": null,
   "metadata": {},
   "outputs": [],
   "source": [
    "%%bash\n",
    "#bwa mem -P target_contigs/uce_contig_sequences_subsample.fasta fastq_reads/T_pella5_R1.fastq fastq_reads/T_pella5_R2.fastq > reference_assembly/reference_assembly.sam\n",
    "bwa mem -M target_contigs/uce_contig_sequences.fasta fastq_reads/T_pella5_R1.fastq fastq_reads/T_pella5_R2.fastq > reference_assembly/reference_assembly.sam"
   ]
  },
  {
   "cell_type": "markdown",
   "metadata": {},
   "source": [
    "If this command takes too long, use `ctrl+c` to cancel it and run it using a job script. I prepared a script, which you can find under `scripts/reference_assembly.sh`\n",
    "\n",
    "___________\n",
    "\n",
    "**3)** The output will be in SAM format, but we need to convert it into BAM format (the binary version)."
   ]
  },
  {
   "cell_type": "code",
   "execution_count": null,
   "metadata": {},
   "outputs": [],
   "source": [
    "%%bash\n",
    "samtools view -b -o reference_assembly/reference_assembly.bam -S reference_assembly/reference_assembly.sam"
   ]
  },
  {
   "cell_type": "markdown",
   "metadata": {},
   "source": [
    "\n",
    "_____________\n",
    "\n",
    "**4)** Next you need to sort the reads inside the BAM file."
   ]
  },
  {
   "cell_type": "code",
   "execution_count": null,
   "metadata": {},
   "outputs": [],
   "source": [
    "%%bash\n",
    "samtools sort reference_assembly/reference_assembly.bam reference_assembly/reference_assembly_sorted"
   ]
  },
  {
   "cell_type": "markdown",
   "metadata": {},
   "source": [
    "\n",
    "_______________\n",
    "\n",
    "**5)** Finally, index the BAM file so we can view it in the next step:"
   ]
  },
  {
   "cell_type": "code",
   "execution_count": null,
   "metadata": {},
   "outputs": [],
   "source": [
    "%%bash\n",
    "samtools index reference_assembly/reference_assembly_sorted.bam "
   ]
  },
  {
   "cell_type": "markdown",
   "metadata": {},
   "source": [
    "\n",
    "_____\n",
    "\n",
    "**6)** View the BAM file using `samtools tview`:"
   ]
  },
  {
   "cell_type": "code",
   "execution_count": null,
   "metadata": {},
   "outputs": [],
   "source": [
    "%%bash\n",
    "samtools tview reference_assembly/reference_assembly_sorted.bam"
   ]
  },
  {
   "cell_type": "markdown",
   "metadata": {},
   "source": [
    "\n",
    "<div class=\"alert alert-block alert-info\">\n",
    "For an even nicer displaying of the BAM files, you can use the software [Tablet](https://ics.hutton.ac.uk/tablet/download-tablet/). In order to do this you need to download Tablet to your computer, copy the sorted BAM file (`reference_assembly_sorted.bam`) and its' index file (`reference_assembly_sorted.bam.bai`) to your computer as well, open Tablet and drag and drop the two files into the open Tablet window.\n",
    "</div>\n",
    "\n",
    "_________\n",
    "\n",
    "**7)** View the reads in relation to the reference by adding the path to the reference FASTA file to the end of the command"
   ]
  },
  {
   "cell_type": "code",
   "execution_count": null,
   "metadata": {},
   "outputs": [],
   "source": [
    "%%bash\n",
    "samtools tview reference_assembly/reference_assembly_sorted.bam target_contigs/uce_contig_sequences.fasta"
   ]
  },
  {
   "cell_type": "markdown",
   "metadata": {},
   "source": [
    "\n",
    "_____\n",
    "\n",
    "**8)** Check out the reference assemblies for different loci. Have a look at the reference FASTA file to identify some loci you want to display (look at the contig ID in the FASTA header)."
   ]
  },
  {
   "cell_type": "code",
   "execution_count": 8,
   "metadata": {},
   "outputs": [
    {
     "name": "stdout",
     "output_type": "stream",
     "text": [
      ">100103 164 310\n",
      "ATGAAATGTTGCCTTTATTTATGTTCATGTGAAATTCTGAGGAGGAGCTCTTACACTTAAATGAACCTGCAAGCAGCCCATAGAAAAGCAAGTGCCTGCAGCGCTAATAATGAGAACTGACAAGGCGATCCTGCTGTGTTTATTTATGACCTTCTGCCTTTGTT\n",
      ">100121 665 3824\n",
      "ATAGGTCATTCTTTCATTATACTATTGTTAAATTACAGACTACTACAAAAGGACATGCTATCTTGAATAAGAGAAAGGGCAGGGTTGGGTAGGGACAATCAGGATAACAGAAGAGTGCACTTAATTTGAGGCCTGCATATGAGCACTGCAGTGATCATTTAGTTCCAGCGGAATGAAATATGCCTTGGGCGATCTCCTCCTTCCTTCACCAGGGGCTTGTGGAATTCCCTGCCAGCACGTGAATGGATAGCAGCCCAGCAATATTCACAGTAATACTGCAGACAGGTAACATTAGCACAGAAAAACGGAGCAAATTTTCCACCACAACGGGCCCCCTGACATTCATCACATAGCTGATCATCCAAGACATATGGCTTAACTTCCACCTGTATGCAGAAAATGAGAAGAAAGCTTACAATTCTTCTTAACAATGGAGGTAAGAAAAAAACCCATACTATTTGCTACCTGTGTTCTAGCAGGACTAGGATCACAATTCTGTAGTAGGGAACACTACCCTCAAGGATGCTTCCCCTCATTACACTCAATCATAGCCATTAAAAACTCAAAAGTATAGGCACTTAGATTAAAAACAACCCTGCTCACACTCTCCTCCTTGATCCGTAAAAAAACCCAGAAACCGATGCTGACCATCAGTATCACACCTC\n",
      ">100138 900 21907\n",
      "AATGCCAAAATAAAATTACAAAAATAATACTGCTTTGAAAGTTTTCTGCTTGCTTTTAGCTGACAGGTCTCTAAGCGGATATGGCTTTTTCCACCTGCAATCAAATGTAATAAACCTTCTTCGCTGCAGAAGTCAAATTTCTGGAAAAAAAAGAAGTTGGAAGCTCACACTTAGACCATAAAACCTTGTTTATTGCCACCATCAGTCTTCGAAGATATGCCCCACAATGGGGTTTGGTAAAGCCATTACAAGGTGCCGTATGAGTTCCATTTGCCTACAGTAAATAGAATGTCAGAAGTGTCAGGGGGAAATAAATATCGGGCTGGTTAAAAGGGAGCAGAGATGGCTCAAAGCATCATTGAGAGGATTGATTTATCTGGCATGCTGTAATGACTGCAGATGTGGATCTGTTATTCTAGATGAGCAATGAATTTGATGAGCTGATAACACAGGGCCAGAGAGGCCTGGTTTTAATTACTGATGAGGAATTTATTTGTGAAGCACTGTGATTTACTGAGGGTTTGTTCTGTTATTGACAGGTGACCTTGGGGCTTTTCTCTTTTGATGAATAAAAAAAAGCTGCATTTTTTAAAGGAAAACTCTTTTATCAGTGCTATGAATACAGCGAGGTCATTTTAGATAGAGTATTGTCTTTCAAACCATCTTTATATATAATTATTTTTCCGAGCAGTTGTTAATTGCCTCTTTCATTGAGATTGTCAAGTATGCCACACTTGCTCTGGGAGGGAGGCTAATTTTGGTGCAGATCATTGCTAGCAAGAATATATTGGGTGGAACTTTTGTGGTAGTGATCTTAAGGCAATTAAGAAAGTCACATTATCTGAGCTTCTATTATTGGGCTGTTCAGCTTTGCCACTACGTGTATCATCCAGGAGATCT\n",
      ">100170 859 19256\n",
      "GATTATTATGATGATTATTATGGTTATGACTATCACGACTACCGTGGTGGCTATGAAGATCCCTATTACGGCTATGATGATGGCTATGCTATAAGAGGAAGAGGAGGAGGAGGAAGGGGTGGGAGAGGTGCCCCTCCACCACCTAGGGGGCGGGGAGCACCACCACCAAGAGGTAGAGCTGGCTATTCACAGAGGGGGGCACCCATGGGACCACCAAGAGGAGCCAGGGGTGGGAGAGGGGGTCCTGCGCAGCAGCAGAGAGGACGCGGTGCTCGTGGAGCCAGGGGCAACCGTGGGGGCAACGTAGGAGGCAAGAGAAAGGCAGATGGGTACAACCAACCTGATTCCAAGCGCCGTCAGACCAACAACCAGCAGAACTGGGGCTCCCAACCCATCGCTCAACAGCCTCTCCAGCAAGGTGGTGACTATGCCGGTAACTATGGTTACAATAATGACAACCAGGAATTTTATCAGGATACTTATGGGCAACAGTGGAAATAGACAAGTGAGGAGGGATTGAGAATATTGGAAACATAGAATTGGCTATAGCTCTACATCCTTCAAAACAAAATTGGCTTAATGTTTCATCCTTCAGTAGCGATTGGCTGCCATTTGTATTGGGCTGAAGAATCACTCTATTGTGTATATACTCGAGTCTCTTAGTTTTCTTTTTTCATAAACGCACTTGGACATTACTGGGCTTGCAGAATTCCTGAACTCCATAAGGGGTTTCAATGCTTTTATCATTTTAGGCTTCATTTTAGCAGTTTAAAAGCAGGAATGGCACACTGTTCAATCATGATTTTGCAGAACCTCTGGTTTTGGACAGTTTCTTTTTTTATTTTATTTTTTCTTTTTT\n",
      ">100321 199 250\n",
      "CTGTTTTTTGGTTTGTTTTTTCAAAGGGAAGGGACACAACCCAAGCTATAGGAAAGAAAAGCAGCTTAAATGGATTATTTAACAAAAAGCAACTTCTAGCTCCTAGATAGTGACCTACATTCTGCACACAATGATGATGTTTTACGGTGGTGATAGGGTTAATAACCTAACATCATTCATGTAGTGTTTTTTGAAAATT\n"
     ]
    }
   ],
   "source": [
    "%%bash\n",
    "head -n 10 target_contigs/uce_contig_sequences.fasta"
   ]
  },
  {
   "cell_type": "markdown",
   "metadata": {},
   "source": [
    "Now add the contig ID you want to view to the `samtools tview` command using the `-p` flag."
   ]
  },
  {
   "cell_type": "code",
   "execution_count": null,
   "metadata": {},
   "outputs": [],
   "source": [
    "%%bash\n",
    "samtools tview -p 100121 reference_assembly/reference_assembly_sorted.bam"
   ]
  },
  {
   "cell_type": "markdown",
   "metadata": {},
   "source": [
    "<div class=\"alert alert-block alert-warning\">\n",
    "**Question:** Do you notice something wrong with the assemblies? Think about what we talked about earlier in the course regarding duplicate reads.\n",
    "</div>"
   ]
  },
  {
   "cell_type": "markdown",
   "metadata": {},
   "source": [
    "The next command removes duplicate reads from the reference assembly:"
   ]
  },
  {
   "cell_type": "code",
   "execution_count": null,
   "metadata": {},
   "outputs": [],
   "source": [
    "%%bash\n",
    "module load picard-tools\n",
    "java -jar $PICARD_JAR MarkDuplicates I=reference_assembly/reference_assembly_sorted.bam O=reference_assembly/reference_assembly_sorted_no_duplicates.bam M=reference_assembly/picard_out.txt REMOVE_DUPLICATES=true VALIDATION_STRINGENCY=LENIENT"
   ]
  },
  {
   "cell_type": "markdown",
   "metadata": {},
   "source": [
    "Inspect the resulting BAM file. You will have to index the new BAM file first, using `samtools index my_dupl_free_bam_file.bam` Compare the same locus before and after removing duplicate reads using `samtools tview`.\n",
    "\n",
    "\n",
    "<div class=\"alert alert-block alert-warning\">\n",
    "**Question:** Insert a screenshot from before and after duplicate removal of the same locus into your report.\n",
    "</div>\n",
    "\n",
    "\n",
    "<div class=\"alert alert-block alert-success\">\n",
    "**Congrats!!** You made it to the end of this tutorial, which means you now know the necessary tools to run a de novo assembly, to extract your target contigs, to run a reference based assembly and to view and evaluate your results!\n",
    "\n",
    "</div>"
   ]
  }
 ],
 "metadata": {
  "kernelspec": {
   "display_name": "Python 3",
   "language": "python",
   "name": "python3"
  },
  "language_info": {
   "codemirror_mode": {
    "name": "ipython",
    "version": 3
   },
   "file_extension": ".py",
   "mimetype": "text/x-python",
   "name": "python",
   "nbconvert_exporter": "python",
   "pygments_lexer": "ipython3",
   "version": "3.6.4"
  }
 },
 "nbformat": 4,
 "nbformat_minor": 2
}
