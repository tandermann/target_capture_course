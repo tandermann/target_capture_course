{
 "cells": [
  {
   "cell_type": "markdown",
   "metadata": {},
   "source": [
    "# Pipeline exercise\n",
    "\n",
    "Fortunately there are computational pipelines which enable you to process many samples jointly and which make the whole workflow more user-friendly. These pipelines also help to produce a consistent, documented and therefore reproducible workflow. Here we are going to use the [SECAPR pipeline](https://github.com/AntonelliLab/seqcap_processor)."
   ]
  },
  {
   "cell_type": "code",
   "execution_count": null,
   "metadata": {},
   "outputs": [],
   "source": [
    "%%bash\n",
    "module load Anaconda3/5.1.0\n",
    "source activate forbio_env"
   ]
  },
  {
   "cell_type": "markdown",
   "metadata": {},
   "source": [
    "To save time we are going to skip the cleaning and trimming step. However, if you are interested you can run this step on the data, following the [SECAPR online tutorial](https://github.com/AntonelliLab/seqcap_processor/blob/6542b37d60ae6a1136c1eb59eeb3a314191c4dfd/docs/notebook/cleaning_trimming.ipynb). The necessary help-file containing the adapter information is stored together with the raw reads in the directory `/work/projects/forbio/tutorials_tobi/pipeline`."
   ]
  },
  {
   "cell_type": "code",
   "execution_count": null,
   "metadata": {},
   "outputs": [],
   "source": [
    "secapr quality_check --input fastq/ --output quality_test_raw 2> warning.txt"
   ]
  }
 ],
 "metadata": {
  "kernelspec": {
   "display_name": "Python 3",
   "language": "python",
   "name": "python3"
  },
  "language_info": {
   "codemirror_mode": {
    "name": "ipython",
    "version": 3
   },
   "file_extension": ".py",
   "mimetype": "text/x-python",
   "name": "python",
   "nbconvert_exporter": "python",
   "pygments_lexer": "ipython3",
   "version": "3.6.4"
  }
 },
 "nbformat": 4,
 "nbformat_minor": 2
}
